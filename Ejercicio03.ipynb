{
 "cells": [
  {
   "cell_type": "markdown",
   "metadata": {},
   "source": [
    "### Algoritmos y Complejidad\n",
    "\n",
    "3. Otra fórmula para calcular 𝜋 se puede deducir a partir de la identidad π/4  = 4 arctan  1/5  - arctan  1/239. Determine el número de términos que se deben sumar para garantizar una aproximación 𝜋 dentro de 10^(-3)."
   ]
  },
  {
   "cell_type": "code",
   "execution_count": null,
   "metadata": {
    "vscode": {
     "languageId": "plaintext"
    }
   },
   "outputs": [],
   "source": [
    "Pseudocódigo:\n",
    "Función aproximacionDePi ():\n",
    "\n",
    "1. error <- 10\n",
    "2. aproximación <- 0\n",
    "3. numerotérminos <- 0\n",
    "4. i <- 1\n",
    "5. Mientras (error > 10^ (-3)) Hacer\n",
    "aproximación <- 16 * P_n(i, 1/5) - 4 * P_n(i, 1/239)\n",
    "error <- absoluto(pi - aproximación)\n",
    "numerotérminos <- i\n",
    "i <- i + 1\n",
    "6. Fin Mientras\n",
    "7. Retornar numerotérminos\n",
    "Fin Función\n"
   ]
  }
 ],
 "metadata": {
  "language_info": {
   "name": "python"
  }
 },
 "nbformat": 4,
 "nbformat_minor": 2
}
