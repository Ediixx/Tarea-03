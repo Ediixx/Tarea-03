{
 "cells": [
  {
   "attachments": {
    "image.png": {
     "image/png": "[encoded data removed]"
    }
   },
   "cell_type": "markdown",
   "metadata": {},
   "source": [
    "### Algoritmos y Complejidad\n",
    "5.a. ¿Cuántas multiplicaciones y sumas se requieren para determinar una suma de la forma ![image.png](attachment:image.png)? "
   ]
  },
  {
   "cell_type": "code",
   "execution_count": null,
   "metadata": {
    "vscode": {
     "languageId": "plaintext"
    }
   },
   "outputs": [],
   "source": [
    "Pseudocódigo:\n",
    "\n",
    "Algoritmo calcularSumMul\n",
    "1. Definir a como lista de int\n",
    "2. Definir b como lista de int\n",
    "3. numerossuma <- -1\n",
    "4. numerosmutiplica <- 0\n",
    "5. suma <- 0\n",
    "6. Para i desde 1 hasta longitud(a) hacer\n",
    "7. Para j desde 1 hasta i hacer\n",
    "multiplicación <- a[i - 1] * b[j - 1]\n",
    "numerosmultiplica <- numerosmultiplica + 1\n",
    "suma <- suma + multiplica\n",
    "numerossuma <- numerossuma + 1\n",
    "8. Fin Para\n",
    "9. Fin Para\n",
    "10. Imprimir “El resultado de la suma es:”, suma\n",
    "11. Imprimir “El número de sumas es:”, numerosuma\n",
    "12. Imprimir “El número de multiplicaciones es:”, numerosmultiplica\n",
    "13. Imprimir “El número total de operaciones es:”, numerossuma + numerosmultiplica\n",
    "Fin Algoritmo\n"
   ]
  },
  {
   "cell_type": "markdown",
   "metadata": {},
   "source": [
    "5.b. Modifique la suma en la parte a) a un formato equivalente que reduzca el número de cálculos."
   ]
  },
  {
   "cell_type": "code",
   "execution_count": null,
   "metadata": {
    "vscode": {
     "languageId": "plaintext"
    }
   },
   "outputs": [],
   "source": [
    "Pseudocódigo:\n",
    "Algoritmo calcularSumMul2\n",
    "1. Definir a como lista de enteros\n",
    "2. Definir b como lista de enteros\n",
    "3. numerossuma <- -1\n",
    "4. numerosmultiplica <- 0\n",
    "5. suma <- 0\n",
    "6. Para i desde 1 hasta longitud(a) hacer\n",
    "suma1 <- 0\n",
    "7. Para j desde 1 hasta i hacer\n",
    "suma1 <- suma1 + b[j - 1]\n",
    "numerossuma <- numerossuma + 1\n",
    "8. Fin Para\n",
    "suma <- suma + a[i - 1] * suma1\n",
    "numerosmultiplica <- numerosmultiplica + 1\n",
    "9. Fin Para\n",
    "10. Imprimir “El resultado de la suma es:”, suma\n",
    "11. Imprimir “El número de sumas es:”, numerosuma\n",
    "12. Imprimir “El número de multiplicaciones es:”, numerosmultiplica\n",
    "13. Imprimir “El número total de operaciones es:”, numerossuma + numerosmultiplica\n",
    "Fin Algoritmo\n"
   ]
  }
 ],
 "metadata": {
  "language_info": {
   "name": "python"
  }
 },
 "nbformat": 4,
 "nbformat_minor": 2
}
