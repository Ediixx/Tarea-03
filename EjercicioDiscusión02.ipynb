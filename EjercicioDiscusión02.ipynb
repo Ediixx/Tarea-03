{
 "cells": [
  {
   "cell_type": "markdown",
   "metadata": {},
   "source": [
    "### Algoritmos y Complejidad\n",
    "\n",
    "2. Las ecuaciones (1.2) y (1.3) en la sección 1.2 proporcionan formas alternativas para las raíces 〖ax〗^2+bx+c=0. Construya un algoritmo con entrada 𝑎, 𝑏, 𝑐 c y salida 𝑥1, 𝑥2 que calcule las raíces 𝑥1 y 𝑥2 (que pueden ser iguales con conjugados complejos) mediante la mejor fórmula para cada raíz."
   ]
  },
  {
   "cell_type": "code",
   "execution_count": 15,
   "metadata": {},
   "outputs": [
    {
     "name": "stdout",
     "output_type": "stream",
     "text": [
      "La/s raíz/ices de la ecuación cuadrática es/son:  Raíz 1: 1.20 Raíz 2: 0.22\n"
     ]
    }
   ],
   "source": [
    "#Se importa la librería cmath para poder trabajar con números complejos:\n",
    "\n",
    "import cmath  \n",
    "\n",
    "def raices(a: float, b: float, c: float):\n",
    "    # Se calculará el discriminante\n",
    "    discriminante = b**2 - 4*a*c\n",
    "\n",
    "    # Si el discriminante es 0, solo hay una raíz\n",
    "    if discriminante == 0:\n",
    "        raiz = (-b + cmath.sqrt(discriminante)) / (2*a)\n",
    "        return f\"Raíz única: {raiz.real:.2f} + {raiz.imag:.2f}j\"\n",
    "    \n",
    "    # Si el discriminante es mayor que 0, hay dos raíces reales\n",
    "    elif discriminante > 0:\n",
    "        raiz1 = (-b + discriminante**0.5) / (2*a)\n",
    "        raiz2 = (-b - discriminante**0.5) / (2*a)\n",
    "        return f\"Raíz 1: {raiz1:.2f}\", f\"Raíz 2: {raiz2:.2f}\"\n",
    "\n",
    "    # Si el discriminante es menor que 0, las raíces son complejas\n",
    "    else:\n",
    "        raiz1 = (-b + cmath.sqrt(discriminante)) / (2*a)\n",
    "        raiz2 = (-b - cmath.sqrt(discriminante)) / (2*a)\n",
    "        return (\n",
    "            f\"Raíz compleja 1: {raiz1.real:.2f} + {raiz1.imag:.2f}j\",\n",
    "            f\"Raíz compleja 2: {raiz2.real:.2f} + {raiz2.imag:.2f}j\"\n",
    "        )\n",
    "\n",
    "# Ejecución del ejercicio con datos quemados\n",
    "resultado = raices(4.5, -6.4, 1.2)  # Incluye el tercer parámetro\n",
    "print('La/s raíz/ices de la ecuación cuadrática es/son: ', *resultado)\n",
    " \n"
   ]
  }
 ],
 "metadata": {
  "kernelspec": {
   "display_name": "Python 3",
   "language": "python",
   "name": "python3"
  },
  "language_info": {
   "codemirror_mode": {
    "name": "ipython",
    "version": 3
   },
   "file_extension": ".py",
   "mimetype": "text/x-python",
   "name": "python",
   "nbconvert_exporter": "python",
   "pygments_lexer": "ipython3",
   "version": "3.13.0"
  }
 },
 "nbformat": 4,
 "nbformat_minor": 2
}
